{
 "cells": [
  {
   "cell_type": "code",
   "execution_count": 0,
   "metadata": {
    "application/vnd.databricks.v1+cell": {
     "cellMetadata": {
      "byteLimit": 2048000,
      "rowLimit": 10000
     },
     "inputWidgets": {},
     "nuid": "1eea7e75-a348-4a2a-b3f7-00cf7ef0bcdc",
     "showTitle": false,
     "tableResultSettingsMap": {},
     "title": ""
    }
   },
   "outputs": [
    {
     "output_type": "stream",
     "name": "stdout",
     "output_type": "stream",
     "text": [
      "Fichier nettoyé enregistré dans le répertoire 'gold'.\n"
     ]
    }
   ],
   "source": [
    "# Migration du premier fichier depuis /bronze vers /gold \n",
    "from azure.storage.blob import BlobServiceClient\n",
    "import pandas as pd\n",
    "from io import StringIO\n",
    "import json\n",
    "import os\n",
    "\n",
    "storage_account_name =  os.getenv(\"STORAGE_ACCOUNT\")\n",
    "container_name = os.getenv(\"CONTAINER_NAME\")\n",
    "storage_account_key = os.getenv(\"KEY\")\n",
    "\n",
    "# connexion avec Azure Blob Storage\n",
    "blob_service_client = BlobServiceClient(\n",
    "    account_url=f\"https://{storage_account_name}.blob.core.windows.net\",\n",
    "    credential=storage_account_key\n",
    ")\n",
    "\n",
    "blob_client = blob_service_client.get_blob_client(container=container_name, blob=\"bronze/data-complete-block/2025_01_06_1736127774473_0.csv\")\n",
    "\n",
    "blob_data = blob_client.download_blob()\n",
    "file_content = blob_data.readall().decode(\"utf-8\")\n",
    "\n",
    "df = pd.read_csv(StringIO(file_content), header=None)\n",
    "\n",
    "# supprimer les deux premières colonnes suite à l'ingestion avec Airbyte\n",
    "df = df.drop(columns=[0, 1])\n",
    "\n",
    "# pour transformer la troisième colonne (JSON) en dico\n",
    "def parse_json(json_str):\n",
    "    try:\n",
    "        return json.loads(json_str)  # Convertir la chaîne JSON\n",
    "    except json.JSONDecodeError:\n",
    "        return {}\n",
    "\n",
    "df[2] = df[2].apply(parse_json)\n",
    "\n",
    "df_json = pd.json_normalize(df[2])\n",
    "\n",
    "df_final = pd.concat([df.drop(columns=[2]), df_json], axis=1)\n",
    "\n",
    "# Nettoyage : supprimer les colonnes inutiles si elles existent\n",
    "columns_to_remove = [\n",
    "    'abilities', 'japanese_name', 'classfication', 'capture_rate', \n",
    "    'base_egg_steps', 'base_happiness', 'experience_growth', 'base_total', \n",
    "    'generation', 'height_m', 'weight_kg', 'pokedex_number', \n",
    "    'is_legendary', 'percentage_male'\n",
    "]\n",
    "\n",
    "# Supprimer les colonnes spécifiées si elles existent dans le DataFrame\n",
    "df_final_cleaned = df_final.drop(columns=[col for col in columns_to_remove if col in df_final.columns])\n",
    "\n",
    "# Sélectionner les colonnes pertinentes pour le résultat final\n",
    "df_final_relevant = df_final_cleaned[[\n",
    "    'name', 'type1', 'type2', 'attack', 'defense', 'sp_attack', 'sp_defense', 'speed', \n",
    "    'against_bug', 'against_dark', 'against_ghost', 'against_grass', 'against_ground',\n",
    "    'against_ice', 'against_normal', 'against_poison', 'against_psychic', 'against_rock', \n",
    "    'against_steel', 'against_water'\n",
    "]]\n",
    "\n",
    "df_final_relevant_cleaned = df_final_relevant.dropna()\n",
    "\n",
    "# Sauvegarder le fichier nettoyé dans le répertoire gold\n",
    "output_blob_client = blob_service_client.get_blob_client(container=container_name, blob=\"gold/2025_01_06_1736127774473_0.csv\")\n",
    "\n",
    "# Convertir le DataFrame en CSV et télécharger le fichier sur Azure Blob Storage\n",
    "output_blob_client.upload_blob(df_final_relevant_cleaned.to_csv(index=False), overwrite=True)\n",
    "\n",
    "print(\"Fichier nettoyé enregistré dans le répertoire 'gold'.\")"
   ]
  },
  {
   "cell_type": "code",
   "execution_count": 0,
   "metadata": {
    "application/vnd.databricks.v1+cell": {
     "cellMetadata": {
      "byteLimit": 2048000,
      "rowLimit": 10000
     },
     "inputWidgets": {},
     "nuid": "d0482dd0-0be0-42af-aa53-e191436bcc4e",
     "showTitle": false,
     "tableResultSettingsMap": {},
     "title": ""
    }
   },
   "outputs": [
    {
     "output_type": "stream",
     "name": "stdout",
     "output_type": "stream",
     "text": [
      "Fichier nettoyé enregistré dans le répertoire 'gold'.\n"
     ]
    }
   ],
   "source": [
    "# Migration du second fichier depuis /bronze vers /gold\n",
    "from azure.storage.blob import BlobServiceClient\n",
    "import pandas as pd\n",
    "from io import StringIO\n",
    "import json\n",
    "import os\n",
    "\n",
    "storage_account_name =  os.getenv(\"STORAGE_ACCOUNT\")\n",
    "container_name = os.getenv(\"CONTAINER_NAME\")\n",
    "storage_account_key = os.getenv(\"KEY\")\n",
    "\n",
    "# Créer une connexion avec Azure Blob Storage\n",
    "blob_service_client = BlobServiceClient(\n",
    "    account_url=f\"https://{storage_account_name}.blob.core.windows.net\",\n",
    "    credential=storage_account_key\n",
    ")\n",
    "\n",
    "blob_client = blob_service_client.get_blob_client(container=container_name, blob=\"bronze/data-database-block/2025_01_06_1736128104803_0.csv\")\n",
    "\n",
    "blob_data = blob_client.download_blob()\n",
    "file_content = blob_data.readall().decode(\"utf-8\")\n",
    "\n",
    "df = pd.read_csv(StringIO(file_content), header=None)\n",
    "\n",
    "df = df.drop(columns=[0, 1])\n",
    "\n",
    "def parse_json(json_str):\n",
    "    try:\n",
    "        return json.loads(json_str) \n",
    "    except json.JSONDecodeError:\n",
    "        return {}\n",
    "\n",
    "df[2] = df[2].apply(parse_json)\n",
    "\n",
    "df_json = pd.json_normalize(df[2])\n",
    "\n",
    "df_final = pd.concat([df.drop(columns=[2]), df_json], axis=1)\n",
    "\n",
    "columns_to_keep = [\n",
    "    'Pokemon Name', 'Primary Type', 'Secondary Type', 'Attack Stat', 'Defense Stat', \n",
    "    'Special Attack Stat', 'Special Defense Stat', 'Speed Stat', 'Catch Rate', \n",
    "    'Health Stat', 'Base Happiness', 'Pokemon Weight', 'Pokemon Height', \n",
    "    'Base Stat Total', 'Legendary Type', 'Classification', 'Primary Ability'\n",
    "]\n",
    "\n",
    "# Supprimer les colonnes qui ne sont pas dans le DataFrame, si elles existent\n",
    "df_final_relevant = df_final[[col for col in columns_to_keep if col in df_final.columns]]\n",
    "\n",
    "# Supprimer les lignes contenant des NaN\n",
    "df_final_relevant_cleaned = df_final_relevant.dropna()\n",
    "\n",
    "output_blob_client = blob_service_client.get_blob_client(container=container_name, blob=\"gold/2025_01_06_1736128104803_0.csv\")\n",
    "output_blob_client.upload_blob(df_final_relevant_cleaned.to_csv(index=False), overwrite=True)\n",
    "\n",
    "print(\"Fichier nettoyé enregistré dans le répertoire 'gold'.\")\n"
   ]
  },
  {
   "cell_type": "code",
   "execution_count": 0,
   "metadata": {
    "application/vnd.databricks.v1+cell": {
     "cellMetadata": {
      "byteLimit": 2048000,
      "rowLimit": 10000
     },
     "inputWidgets": {},
     "nuid": "eceb368d-1d10-47f8-b847-2e85187af037",
     "showTitle": false,
     "tableResultSettingsMap": {},
     "title": ""
    }
   },
   "outputs": [
    {
     "output_type": "stream",
     "name": "stdout",
     "output_type": "stream",
     "text": [
      "Contenu du premier fichier :\n         name  type1   type2  attack  defense  sp_attack  sp_defense  speed  \\\n0   Bulbasaur  grass  poison    49.0     49.0       65.0        65.0   45.0   \n1     Ivysaur  grass  poison    62.0     63.0       80.0        80.0   60.0   \n2    Venusaur  grass  poison   100.0    123.0      122.0       120.0   80.0   \n3   Charizard   fire  flying   104.0     78.0      159.0       115.0  100.0   \n4  Butterfree    bug  flying    45.0     50.0       90.0        80.0   70.0   \n\n   against_bug  against_dark  against_ghost  against_grass  against_ground  \\\n0         1.00           1.0            1.0           0.25             1.0   \n1         1.00           1.0            1.0           0.25             1.0   \n2         1.00           1.0            1.0           0.25             1.0   \n3         0.25           1.0            1.0           0.25             0.0   \n4         0.50           1.0            1.0           0.25             0.0   \n\n   against_ice  against_normal  against_poison  against_psychic  against_rock  \\\n0          2.0             1.0             1.0              2.0           1.0   \n1          2.0             1.0             1.0              2.0           1.0   \n2          2.0             1.0             1.0              2.0           1.0   \n3          1.0             1.0             1.0              1.0           4.0   \n4          2.0             1.0             1.0              1.0           4.0   \n\n   against_steel  against_water  \n0            1.0            0.5  \n1            1.0            0.5  \n2            1.0            0.5  \n3            0.5            2.0  \n4            1.0            1.0  \n\nContenu du deuxième fichier :\n  Pokemon Name Primary Type Secondary Type  Attack Stat  Defense Stat  \\\n0   \"Articuno\"        \"Ice\"       \"Flying\"         85.0         100.0   \n1   \"Articuno\"    \"Psychic\"       \"Flying\"         85.0          85.0   \n2     \"Zapdos\"   \"Electric\"       \"Flying\"         90.0          85.0   \n3     \"Zapdos\"   \"Fighting\"       \"Flying\"        125.0          90.0   \n4    \"Moltres\"       \"Fire\"       \"Flying\"        100.0          90.0   \n\n   Special Attack Stat  Special Defense Stat  Speed Stat  Catch Rate  \\\n0                 95.0                 125.0        85.0         3.0   \n1                125.0                 100.0        95.0         3.0   \n2                125.0                  90.0       100.0         3.0   \n3                 85.0                  90.0       100.0         3.0   \n4                125.0                  85.0        90.0         3.0   \n\n   Health Stat  Base Happiness  Pokemon Weight  Pokemon Height  \\\n0         90.0            35.0            55.4             1.7   \n1         90.0            35.0            50.9             1.7   \n2         90.0            35.0            52.6             1.6   \n3         90.0            35.0            58.2             1.6   \n4         90.0            35.0            60.0             2.0   \n\n   Base Stat Total   Legendary Type         Classification Primary Ability  \n0            580.0  \"Sub-Legendary\"       \"Freeze Pokémon\"      \"Pressure\"  \n1            580.0  \"Sub-Legendary\"        \"Cruel Pokémon\"   \"Competitive\"  \n2            580.0  \"Sub-Legendary\"     \"Electric Pokémon\"      \"Pressure\"  \n3            580.0  \"Sub-Legendary\"  \"Strong Legs Pokémon\"       \"Defiant\"  \n4            580.0  \"Sub-Legendary\"        \"Flame Pokémon\"      \"Pressure\"  \n\nStatistiques descriptives pour le premier fichier :\n           attack     defense   sp_attack  sp_defense       speed  \\\ncount  417.000000  417.000000  417.000000  417.000000  417.000000   \nmean    81.196643   77.661871   74.520384   73.467626   68.848921   \nstd     33.098261   32.785775   33.251015   27.966920   28.901585   \nmin     10.000000   15.000000   10.000000   20.000000    5.000000   \n25%     55.000000   52.000000   50.000000   52.000000   45.000000   \n50%     78.000000   74.000000   70.000000   70.000000   67.000000   \n75%    100.000000   95.000000   95.000000   90.000000   90.000000   \nmax    185.000000  230.000000  180.000000  230.000000  160.000000   \n\n       against_bug  against_dark  against_ghost  against_grass  \\\ncount   417.000000    417.000000     417.000000     417.000000   \nmean      0.908873      1.060552       1.022782       1.002998   \nstd       0.653967      0.487607       0.584317       0.966766   \nmin       0.250000      0.250000       0.000000       0.250000   \n25%       0.500000      1.000000       1.000000       0.500000   \n50%       1.000000      1.000000       1.000000       0.500000   \n75%       1.000000      1.000000       1.000000       1.000000   \nmax       4.000000      4.000000       4.000000       4.000000   \n\n       against_ground  against_ice  against_normal  against_poison  \\\ncount      417.000000   417.000000      417.000000      417.000000   \nmean         1.062350     1.380695        0.822542        0.886691   \nstd          0.913315     0.878259        0.313913        0.637064   \nmin          0.000000     0.250000        0.000000        0.000000   \n25%          0.500000     0.500000        0.500000        0.500000   \n50%          1.000000     1.000000        1.000000        1.000000   \n75%          2.000000     2.000000        1.000000        1.000000   \nmax          4.000000     4.000000        1.000000        4.000000   \n\n       against_psychic  against_rock  against_steel  against_water  \ncount       417.000000    417.000000     417.000000     417.000000  \nmean          0.994604      1.384892       1.016187       1.128897  \nstd           0.585123      0.863558       0.562667       0.718295  \nmin           0.000000      0.250000       0.250000       0.250000  \n25%           0.500000      1.000000       0.500000       0.500000  \n50%           1.000000      1.000000       1.000000       1.000000  \n75%           1.000000      2.000000       1.000000       1.000000  \nmax           4.000000      4.000000       4.000000       4.000000  \n\nStatistiques descriptives pour le deuxième fichier :\n       Attack Stat  Defense Stat  Special Attack Stat  Special Defense Stat  \\\ncount   105.000000    105.000000           105.000000            105.000000   \nmean    114.371429    100.238095           110.057143             99.285714   \nstd      26.314758     29.017741            32.267759             27.800704   \nmin      53.000000     37.000000            53.000000             31.000000   \n25%      95.000000     85.000000            85.000000             86.000000   \n50%     115.000000    100.000000           113.000000             96.000000   \n75%     130.000000    115.000000           131.000000            115.000000   \nmax     181.000000    250.000000           180.000000            250.000000   \n\n       Speed Stat  Catch Rate  Health Stat  Base Happiness  Pokemon Weight  \\\ncount  105.000000  105.000000   105.000000      105.000000      105.000000   \nmean    97.514286   23.819048    98.780952       22.333333      206.518095   \nstd     22.819996   54.498903    31.478314       34.959225      256.741814   \nmin     13.000000    3.000000    50.000000        0.000000        0.000000   \n25%     90.000000    3.000000    80.000000        0.000000       33.500000   \n50%     97.000000    3.000000    92.000000        0.000000       80.500000   \n75%    109.000000   30.000000   100.000000       35.000000      305.000000   \nmax    151.000000  255.000000   255.000000      100.000000      999.900000   \n\n       Pokemon Height  Base Stat Total  \ncount      105.000000       105.000000  \nmean         4.240000       620.247619  \nstd         10.430656        77.441887  \nmin          0.300000       486.000000  \n25%          1.300000       570.000000  \n50%          1.900000       600.000000  \n75%          3.800000       680.000000  \nmax        100.000000      1125.000000  \n\nCorrélations pour le premier fichier :\n                   attack   defense  sp_attack  sp_defense     speed  \\\nattack           1.000000  0.435320   0.369385    0.234835  0.362395   \ndefense          0.435320  1.000000   0.191919    0.527995 -0.066731   \nsp_attack        0.369385  0.191919   1.000000    0.477013  0.405631   \nsp_defense       0.234835  0.527995   0.477013    1.000000  0.149775   \nspeed            0.362395 -0.066731   0.405631    0.149775  1.000000   \nagainst_bug      0.033925 -0.020192  -0.000329   -0.001805 -0.093892   \nagainst_dark    -0.046541  0.029365   0.145388    0.104169 -0.021226   \nagainst_ghost    0.024875  0.150163   0.235020    0.244857 -0.026699   \nagainst_grass    0.019551  0.154045  -0.139194   -0.079358 -0.217324   \nagainst_ground   0.013172  0.285896   0.095459    0.099555 -0.164907   \nagainst_ice      0.051976 -0.094822  -0.063392   -0.085731  0.094299   \nagainst_normal  -0.112951 -0.296928  -0.043294   -0.082800  0.180918   \nagainst_poison  -0.187531 -0.262058   0.048693    0.010402  0.046036   \nagainst_psychic -0.087949 -0.158264  -0.049925   -0.074910  0.002652   \nagainst_rock    -0.178156 -0.246730   0.057825   -0.024889  0.205993   \nagainst_steel   -0.018823 -0.009769  -0.086729    0.015634 -0.046080   \nagainst_water    0.068344  0.159637  -0.087031   -0.084199 -0.069809   \n\n                 against_bug  against_dark  against_ghost  against_grass  \\\nattack              0.033925     -0.046541       0.024875       0.019551   \ndefense            -0.020192      0.029365       0.150163       0.154045   \nsp_attack          -0.000329      0.145388       0.235020      -0.139194   \nsp_defense         -0.001805      0.104169       0.244857      -0.079358   \nspeed              -0.093892     -0.021226      -0.026699      -0.217324   \nagainst_bug         1.000000      0.111576       0.058917       0.141113   \nagainst_dark        0.111576      1.000000       0.709127      -0.001661   \nagainst_ghost       0.058917      0.709127       1.000000       0.042432   \nagainst_grass       0.141113     -0.001661       0.042432       1.000000   \nagainst_ground     -0.096112      0.004997       0.131338       0.245832   \nagainst_ice         0.090628     -0.016068      -0.109454      -0.193335   \nagainst_normal      0.181576     -0.475366      -0.472634      -0.156662   \nagainst_poison      0.301516     -0.242901      -0.128660      -0.209723   \nagainst_psychic    -0.419832     -0.131552      -0.040067      -0.100366   \nagainst_rock       -0.207504     -0.004816      -0.122226      -0.379299   \nagainst_steel       0.092619     -0.124053      -0.002952       0.165351   \nagainst_water      -0.189865     -0.006895       0.003010       0.346905   \n\n                 against_ground  against_ice  against_normal  against_poison  \\\nattack                 0.013172     0.051976       -0.112951       -0.187531   \ndefense                0.285896    -0.094822       -0.296928       -0.262058   \nsp_attack              0.095459    -0.063392       -0.043294        0.048693   \nsp_defense             0.099555    -0.085731       -0.082800        0.010402   \nspeed                 -0.164907     0.094299        0.180918        0.046036   \nagainst_bug           -0.096112     0.090628        0.181576        0.301516   \nagainst_dark           0.004997    -0.016068       -0.475366       -0.242901   \nagainst_ghost          0.131338    -0.109454       -0.472634       -0.128660   \nagainst_grass          0.245832    -0.193335       -0.156662       -0.209723   \nagainst_ground         1.000000    -0.515151       -0.372155       -0.441256   \nagainst_ice           -0.515151     1.000000        0.202036        0.238396   \nagainst_normal        -0.372155     0.202036        1.000000        0.470175   \nagainst_poison        -0.441256     0.238396        0.470175        1.000000   \nagainst_psychic        0.011877     0.061894        0.163274        0.019314   \nagainst_rock          -0.483107     0.095159        0.270302        0.208911   \nagainst_steel         -0.070965     0.163532       -0.102782        0.233138   \nagainst_water          0.372007    -0.054632       -0.231466       -0.379066   \n\n                 against_psychic  against_rock  against_steel  against_water  \nattack                 -0.087949     -0.178156      -0.018823       0.068344  \ndefense                -0.158264     -0.246730      -0.009769       0.159637  \nsp_attack              -0.049925      0.057825      -0.086729      -0.087031  \nsp_defense             -0.074910     -0.024889       0.015634      -0.084199  \nspeed                   0.002652      0.205993      -0.046080      -0.069809  \nagainst_bug            -0.419832     -0.207504       0.092619      -0.189865  \nagainst_dark           -0.131552     -0.004816      -0.124053      -0.006895  \nagainst_ghost          -0.040067     -0.122226      -0.002952       0.003010  \nagainst_grass          -0.100366     -0.379299       0.165351       0.346905  \nagainst_ground          0.011877     -0.483107      -0.070965       0.372007  \nagainst_ice             0.061894      0.095159       0.163532      -0.054632  \nagainst_normal          0.163274      0.270302      -0.102782      -0.231466  \nagainst_poison          0.019314      0.208911       0.233138      -0.379066  \nagainst_psychic         1.000000      0.033259       0.015781      -0.039807  \nagainst_rock            0.033259      1.000000       0.024870      -0.045295  \nagainst_steel           0.015781      0.024870       1.000000       0.259500  \nagainst_water          -0.039807     -0.045295       0.259500       1.000000  \n\nCorrélations pour le deuxième fichier :\n                      Attack Stat  Defense Stat  Special Attack Stat  \\\nAttack Stat              1.000000      0.231870            -0.028346   \nDefense Stat             0.231870      1.000000            -0.227456   \nSpecial Attack Stat     -0.028346     -0.227456             1.000000   \nSpecial Defense Stat    -0.245825      0.371091             0.268667   \nSpeed Stat               0.009206     -0.291951             0.117261   \nCatch Rate               0.147685      0.243508             0.262935   \nHealth Stat              0.022642      0.260804             0.020611   \nBase Happiness          -0.195936     -0.213014             0.049788   \nPokemon Weight           0.168723      0.281833             0.137124   \nPokemon Height           0.074671      0.487520             0.054490   \nBase Stat Total          0.338539      0.511917             0.461190   \n\n                      Special Defense Stat  Speed Stat  Catch Rate  \\\nAttack Stat                      -0.245825    0.009206    0.147685   \nDefense Stat                      0.371091   -0.291951    0.243508   \nSpecial Attack Stat               0.268667    0.117261    0.262935   \nSpecial Defense Stat              1.000000   -0.075985    0.232139   \nSpeed Stat                       -0.075985    1.000000    0.110883   \nCatch Rate                        0.232139    0.110883    1.000000   \nHealth Stat                       0.197331   -0.045915    0.330475   \nBase Happiness                    0.030027    0.025781   -0.202481   \nPokemon Weight                    0.041659   -0.240575    0.225493   \nPokemon Height                    0.433867    0.129188    0.485003   \nBase Stat Total                   0.584271    0.191324    0.501323   \n\n                      Health Stat  Base Happiness  Pokemon Weight  \\\nAttack Stat              0.022642       -0.195936        0.168723   \nDefense Stat             0.260804       -0.213014        0.281833   \nSpecial Attack Stat      0.020611        0.049788        0.137124   \nSpecial Defense Stat     0.197331        0.030027        0.041659   \nSpeed Stat              -0.045915        0.025781       -0.240575   \nCatch Rate               0.330475       -0.202481        0.225493   \nHealth Stat              1.000000       -0.271533        0.371811   \nBase Happiness          -0.271533        1.000000       -0.329353   \nPokemon Weight           0.371811       -0.329353        1.000000   \nPokemon Height           0.534254       -0.176509        0.066700   \nBase Stat Total          0.577792       -0.217647        0.315268   \n\n                      Pokemon Height  Base Stat Total  \nAttack Stat                 0.074671         0.338539  \nDefense Stat                0.487520         0.511917  \nSpecial Attack Stat         0.054490         0.461190  \nSpecial Defense Stat        0.433867         0.584271  \nSpeed Stat                  0.129188         0.191324  \nCatch Rate                  0.485003         0.501323  \nHealth Stat                 0.534254         0.577792  \nBase Happiness             -0.176509        -0.217647  \nPokemon Weight              0.066700         0.315268  \nPokemon Height              1.000000         0.641736  \nBase Stat Total             0.641736         1.000000  \n"
     ]
    }
   ],
   "source": [
    "# Analyse des données dans /gold\n",
    "from azure.storage.blob import BlobServiceClient\n",
    "import pandas as pd\n",
    "from io import StringIO\n",
    "import os\n",
    "storage_account_name =  os.getenv(\"STORAGE_ACCOUNT\")\n",
    "container_name = os.getenv(\"CONTAINER_NAME\")\n",
    "storage_account_key = os.getenv(\"KEY\")\n",
    "\n",
    "# Créer une connexion avec Azure Blob Storage\n",
    "blob_service_client = BlobServiceClient(\n",
    "    account_url=f\"https://{storage_account_name}.blob.core.windows.net\",\n",
    "    credential=storage_account_key\n",
    ")\n",
    "\n",
    "# Fonction pour charger un fichier depuis Azure Blob Storage\n",
    "def load_blob_to_dataframe(blob_path):\n",
    "    # Accéder au fichier dans le répertoire gold\n",
    "    blob_client = blob_service_client.get_blob_client(container=container_name, blob=blob_path)\n",
    "\n",
    "    # Télécharger le contenu du blob\n",
    "    blob_data = blob_client.download_blob()\n",
    "    file_content = blob_data.readall().decode(\"utf-8\")\n",
    "\n",
    "    # Charger le contenu dans un DataFrame Pandas\n",
    "    df = pd.read_csv(StringIO(file_content))\n",
    "\n",
    "    return df\n",
    "\n",
    "# Charger les deux fichiers nettoyés dans le répertoire 'gold'\n",
    "file_1_path = \"gold/2025_01_06_1736127774473_0.csv\"\n",
    "file_2_path = \"gold/2025_01_06_1736128104803_0.csv\"\n",
    "\n",
    "df_file_1 = load_blob_to_dataframe(file_1_path)\n",
    "df_file_2 = load_blob_to_dataframe(file_2_path)\n",
    "\n",
    "# Afficher les premières lignes des fichiers pour vérifier\n",
    "print(\"Contenu du premier fichier :\")\n",
    "print(df_file_1.head())\n",
    "\n",
    "print(\"\\nContenu du deuxième fichier :\")\n",
    "print(df_file_2.head())\n",
    "\n",
    "# Calcul des statistiques descriptives pour le premier fichier\n",
    "print(\"\\nStatistiques descriptives pour le premier fichier :\")\n",
    "print(df_file_1.describe())\n",
    "\n",
    "# Calcul des statistiques descriptives pour le deuxième fichier\n",
    "print(\"\\nStatistiques descriptives pour le deuxième fichier :\")\n",
    "print(df_file_2.describe())\n",
    "\n",
    "# Corrélations pour les variables numériques dans le premier fichier\n",
    "print(\"\\nCorrélations pour le premier fichier :\")\n",
    "print(df_file_1.corr())\n",
    "\n",
    "# Corrélations pour les variables numériques dans le deuxième fichier\n",
    "print(\"\\nCorrélations pour le deuxième fichier :\")\n",
    "print(df_file_2.corr())\n",
    "\n"
   ]
  },
  {
   "cell_type": "code",
   "execution_count": 0,
   "metadata": {
    "application/vnd.databricks.v1+cell": {
     "cellMetadata": {
      "byteLimit": 2048000,
      "rowLimit": 10000
     },
     "inputWidgets": {},
     "nuid": "88ee4170-f552-42b2-8360-2913eabba010",
     "showTitle": false,
     "tableResultSettingsMap": {},
     "title": ""
    }
   },
   "outputs": [
    {
     "output_type": "stream",
     "name": "stdout",
     "output_type": "stream",
     "text": [
      "\nStatistiques descriptives pour le premier fichier :\n           attack     defense   sp_attack  sp_defense       speed  \\\ncount  417.000000  417.000000  417.000000  417.000000  417.000000   \nmean    81.196643   77.661871   74.520384   73.467626   68.848921   \nstd     33.098261   32.785775   33.251015   27.966920   28.901585   \nmin     10.000000   15.000000   10.000000   20.000000    5.000000   \n25%     55.000000   52.000000   50.000000   52.000000   45.000000   \n50%     78.000000   74.000000   70.000000   70.000000   67.000000   \n75%    100.000000   95.000000   95.000000   90.000000   90.000000   \nmax    185.000000  230.000000  180.000000  230.000000  160.000000   \n\n       against_bug  against_dark  against_ghost  against_grass  \\\ncount   417.000000    417.000000     417.000000     417.000000   \nmean      0.908873      1.060552       1.022782       1.002998   \nstd       0.653967      0.487607       0.584317       0.966766   \nmin       0.250000      0.250000       0.000000       0.250000   \n25%       0.500000      1.000000       1.000000       0.500000   \n50%       1.000000      1.000000       1.000000       0.500000   \n75%       1.000000      1.000000       1.000000       1.000000   \nmax       4.000000      4.000000       4.000000       4.000000   \n\n       against_ground  against_ice  against_normal  against_poison  \\\ncount      417.000000   417.000000      417.000000      417.000000   \nmean         1.062350     1.380695        0.822542        0.886691   \nstd          0.913315     0.878259        0.313913        0.637064   \nmin          0.000000     0.250000        0.000000        0.000000   \n25%          0.500000     0.500000        0.500000        0.500000   \n50%          1.000000     1.000000        1.000000        1.000000   \n75%          2.000000     2.000000        1.000000        1.000000   \nmax          4.000000     4.000000        1.000000        4.000000   \n\n       against_psychic  against_rock  against_steel  against_water  \ncount       417.000000    417.000000     417.000000     417.000000  \nmean          0.994604      1.384892       1.016187       1.128897  \nstd           0.585123      0.863558       0.562667       0.718295  \nmin           0.000000      0.250000       0.250000       0.250000  \n25%           0.500000      1.000000       0.500000       0.500000  \n50%           1.000000      1.000000       1.000000       1.000000  \n75%           1.000000      2.000000       1.000000       1.000000  \nmax           4.000000      4.000000       4.000000       4.000000  \n\nStatistiques descriptives pour le deuxième fichier :\n       Attack Stat  Defense Stat  Special Attack Stat  Special Defense Stat  \\\ncount   105.000000    105.000000           105.000000            105.000000   \nmean    114.371429    100.238095           110.057143             99.285714   \nstd      26.314758     29.017741            32.267759             27.800704   \nmin      53.000000     37.000000            53.000000             31.000000   \n25%      95.000000     85.000000            85.000000             86.000000   \n50%     115.000000    100.000000           113.000000             96.000000   \n75%     130.000000    115.000000           131.000000            115.000000   \nmax     181.000000    250.000000           180.000000            250.000000   \n\n       Speed Stat  Catch Rate  Health Stat  Base Happiness  Pokemon Weight  \\\ncount  105.000000  105.000000   105.000000      105.000000      105.000000   \nmean    97.514286   23.819048    98.780952       22.333333      206.518095   \nstd     22.819996   54.498903    31.478314       34.959225      256.741814   \nmin     13.000000    3.000000    50.000000        0.000000        0.000000   \n25%     90.000000    3.000000    80.000000        0.000000       33.500000   \n50%     97.000000    3.000000    92.000000        0.000000       80.500000   \n75%    109.000000   30.000000   100.000000       35.000000      305.000000   \nmax    151.000000  255.000000   255.000000      100.000000      999.900000   \n\n       Pokemon Height  Base Stat Total  \ncount      105.000000       105.000000  \nmean         4.240000       620.247619  \nstd         10.430656        77.441887  \nmin          0.300000       486.000000  \n25%          1.300000       570.000000  \n50%          1.900000       600.000000  \n75%          3.800000       680.000000  \nmax        100.000000      1125.000000  \n\nAnalyse des interactions en combat pour le premier fichier :\n\nMoyenne des avantages par type (faiblesse ou résistance moyenne) :\nagainst_normal     0.822542\nagainst_poison     0.886691\nagainst_bug        0.908873\nagainst_psychic    0.994604\nagainst_grass      1.002998\nagainst_steel      1.016187\nagainst_ghost      1.022782\nagainst_dark       1.060552\nagainst_ground     1.062350\nagainst_water      1.128897\nagainst_ice        1.380695\nagainst_rock       1.384892\ndtype: float64\n\nTypes les plus résistants (moyenne > 1) :\n['against_grass', 'against_steel', 'against_ghost', 'against_dark', 'against_ground', 'against_water', 'against_ice', 'against_rock']\n\nTypes les plus faibles (moyenne < 1) :\n['against_normal', 'against_poison', 'against_bug', 'against_psychic']\n\nAnalyse combinée des statistiques de combat :\n\nDonnées combinées :\nEmpty DataFrame\nColumns: [Pokemon Name, type1, type2, attack, defense, sp_attack, sp_defense, speed, against_bug, against_dark, against_ghost, against_grass, against_ground, against_ice, against_normal, against_poison, against_psychic, against_rock, against_steel, against_water, Primary Type, Secondary Type, Attack Stat, Defense Stat, Special Attack Stat, Special Defense Stat, Speed Stat, Catch Rate, Health Stat, Base Happiness, Pokemon Weight, Pokemon Height, Base Stat Total, Legendary Type, Classification, Primary Ability]\nIndex: []\n\n[0 rows x 36 columns]\n\nCorrélations entre les statistiques offensives et défensives :\n                      Attack Stat  Defense Stat  Special Attack Stat  \\\nAttack Stat                   NaN           NaN                  NaN   \nDefense Stat                  NaN           NaN                  NaN   \nSpecial Attack Stat           NaN           NaN                  NaN   \nSpecial Defense Stat          NaN           NaN                  NaN   \nSpeed Stat                    NaN           NaN                  NaN   \n\n                      Special Defense Stat  Speed Stat  \nAttack Stat                            NaN         NaN  \nDefense Stat                           NaN         NaN  \nSpecial Attack Stat                    NaN         NaN  \nSpecial Defense Stat                   NaN         NaN  \nSpeed Stat                             NaN         NaN  \n"
     ]
    },
    {
     "output_type": "stream",
     "name": "stderr",
     "output_type": "stream",
     "text": [
      "<command-1383710340809427>:53: FutureWarning: Dropping of nuisance columns in DataFrame reductions (with 'numeric_only=None') is deprecated; in a future version this will raise TypeError.  Select only valid columns before calling the reduction.\n  average_advantages = type_advantages.mean().sort_values()\n"
     ]
    },
    {
     "output_type": "display_data",
     "data": {
      "image/png": "[encoded data removed]"
     },
     "metadata": {
      "application/vnd.databricks.v1+output": {
       "addedWidgets": {},
       "arguments": {},
       "data": "data:image/png;base64,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\n",
       "datasetInfos": [],
       "metadata": {},
       "removedWidgets": [],
       "type": "image"
      }
     },
     "output_type": "display_data"
    }
   ],
   "source": [
    "# Analyse des données dans /gold v2\n",
    "from azure.storage.blob import BlobServiceClient\n",
    "import pandas as pd\n",
    "from io import StringIO\n",
    "import os\n",
    "\n",
    "storage_account_name = os.getenv(\"STORAGE_ACCOUNT\")\n",
    "container_name = os.getenv(\"CONTAINER_NAME\")\n",
    "storage_account_key = os.getenv(\"KEY\")\n",
    "\n",
    "blob_service_client = BlobServiceClient(\n",
    "    account_url=f\"https://{storage_account_name}.blob.core.windows.net\",\n",
    "    credential=storage_account_key\n",
    ")\n",
    "\n",
    "# Fonction pour load un fichier depuis Azure Blob Storage\n",
    "def load_blob_to_dataframe(blob_path):\n",
    "    # Accéder au fichier dans le répertoire gold\n",
    "    blob_client = blob_service_client.get_blob_client(container=container_name, blob=blob_path)\n",
    "    blob_data = blob_client.download_blob()\n",
    "    file_content = blob_data.readall().decode(\"utf-8\")\n",
    "    df = pd.read_csv(StringIO(file_content))\n",
    "\n",
    "    return df\n",
    "\n",
    "# Charger les deux fichiers du répertoire 'gold'\n",
    "file_1_path = \"gold/2025_01_06_1736127774473_0.csv\"\n",
    "file_2_path = \"gold/2025_01_06_1736128104803_0.csv\"\n",
    "\n",
    "df_file_1 = load_blob_to_dataframe(file_1_path)\n",
    "df_file_2 = load_blob_to_dataframe(file_2_path)\n",
    "\n",
    "# print(df_file_1.head())\n",
    "# print(df_file_2.head())\n",
    "\n",
    "# Analyse simple : Calculer des statistiques descriptives pour le premier fichier\n",
    "print(\"\\nStatistiques descriptives pour le premier fichier :\")\n",
    "print(df_file_1.describe())\n",
    "\n",
    "# Analyse simple : Calculer des statistiques descriptives pour le deuxième fichier\n",
    "print(\"\\nStatistiques descriptives pour le deuxième fichier :\")\n",
    "print(df_file_2.describe())\n",
    "\n",
    "# Analyse des interactions en combat (Types et Avantages/Désavantages)\n",
    "print(\"\\nAnalyse des interactions en combat pour le premier fichier :\")\n",
    "type_advantages = df_file_1[\n",
    "    ['type1', 'type2', 'against_bug', 'against_dark', 'against_ghost', \n",
    "     'against_grass', 'against_ground', 'against_ice', 'against_normal', \n",
    "     'against_poison', 'against_psychic', 'against_rock', 'against_steel', 'against_water']\n",
    "]\n",
    "\n",
    "# Calculer la moyenne des \"avantages\" contre chaque type\n",
    "average_advantages = type_advantages.mean().sort_values()\n",
    "print(\"\\nMoyenne des avantages par type (faiblesse ou résistance moyenne) :\")\n",
    "print(average_advantages)\n",
    "\n",
    "# Identifier les types les + ou - résistants\n",
    "strong_against = average_advantages[average_advantages > 1].index.tolist()\n",
    "weak_against = average_advantages[average_advantages < 1].index.tolist()\n",
    "\n",
    "print(\"\\nTypes les plus résistants (moyenne > 1) :\")\n",
    "print(strong_against)\n",
    "\n",
    "print(\"\\nTypes les plus faibles (moyenne < 1) :\")\n",
    "print(weak_against)\n",
    "\n",
    "# analyse des statistiques combinées des fichiers\n",
    "print(\"\\nAnalyse combinée des statistiques de combat :\")\n",
    "\n",
    "# Merge sur les noms des Pokémon pour avoir une vue complète\n",
    "df_combined = pd.merge(\n",
    "    df_file_1.rename(columns={'name': 'Pokemon Name'}),\n",
    "    df_file_2,\n",
    "    on='Pokemon Name',\n",
    "    how='inner'\n",
    ")\n",
    "\n",
    "# premières lignes des données combinées\n",
    "print(\"\\nDonnées combinées :\")\n",
    "print(df_combined.head())\n",
    "\n",
    "# Corrélation des stats offensives/défensives\n",
    "correlations = df_combined[['Attack Stat', 'Defense Stat', 'Special Attack Stat', 'Special Defense Stat', 'Speed Stat']].corr()\n",
    "print(\"\\nCorrélations entre les statistiques offensives et défensives :\")\n",
    "print(correlations)\n",
    "\n",
    "# Visu des forces et faiblesses par type\n",
    "import seaborn as sns\n",
    "import matplotlib.pyplot as plt\n",
    "\n",
    "# distribution des types de Pokémon\n",
    "plt.figure(figsize=(12, 6))\n",
    "sns.countplot(data=df_file_1, x='type1', order=df_file_1['type1'].value_counts().index)\n",
    "plt.title('Distribution des Types Primaires des Pokémon')\n",
    "plt.xlabel('Type')\n",
    "plt.ylabel('Nombre de Pokémon')\n",
    "plt.xticks(rotation=45)\n",
    "plt.show()\n"
   ]
  }
 ],
 "metadata": {
  "application/vnd.databricks.v1+notebook": {
   "computePreferences": null,
   "dashboards": [],
   "environmentMetadata": {
    "base_environment": "",
    "client": "1"
   },
   "language": "python",
   "notebookMetadata": {
    "pythonIndentUnit": 4
   },
   "notebookName": "TP : Pokemon",
   "widgets": {}
  }
 },
 "nbformat": 4,
 "nbformat_minor": 0
}
